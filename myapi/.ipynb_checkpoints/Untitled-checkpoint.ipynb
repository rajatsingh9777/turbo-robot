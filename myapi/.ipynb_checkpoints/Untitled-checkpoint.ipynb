{
 "cells": [
  {
   "cell_type": "code",
   "execution_count": 41,
   "metadata": {},
   "outputs": [],
   "source": [
    "import datetime\n",
    "import os, sys\n",
    "import django\n",
    "from django.db import connection\n",
    "import threading\n",
    "import requests\n",
    "import pandas as pd\n",
    "import time\n",
    "\n",
    "BASE_DIR = \"/Users/ravisiswaliya/Desktop/myproject\"\n",
    "sys.path.append(BASE_DIR)\n",
    "os.environ.setdefault(\"DJANGO_SETTINGS_MODULE\", \"myproject.settings\")\n",
    "django.setup()\n",
    "\n"
   ]
  },
  {
   "cell_type": "code",
   "execution_count": 65,
   "metadata": {},
   "outputs": [],
   "source": [
    "from myapi.models import Hero"
   ]
  },
  {
   "cell_type": "code",
   "execution_count": 114,
   "metadata": {},
   "outputs": [],
   "source": [
    "def sort_m(st, ft):\n",
    "    result = []\n",
    "    ft = sorted(ft)  # soritng the finish time\n",
    "    n = len(ft)  # count total finish time\n",
    "    i = 0  # select by default first value\n",
    "    result.append(i)  # adding first value to dictionary\n",
    "    for j in range(n):\n",
    "        # checking if start time of next activity is greater then or equal to\n",
    "        # finish time of previously\n",
    "        if st[j] >= ft[i]:\n",
    "            # adding to list\n",
    "            result.append(j)\n",
    "            i = j\n",
    "    return set(result)"
   ]
  },
  {
   "cell_type": "code",
   "execution_count": 124,
   "metadata": {},
   "outputs": [
    {
     "data": {
      "text/plain": [
       "{0, 1, 2, 3, 4, 5, 6, 7, 8, 11}"
      ]
     },
     "execution_count": 124,
     "metadata": {},
     "output_type": "execute_result"
    }
   ],
   "source": [
    "# selecting start date\n",
    "start_date = [st['starting_date'] for st in Hero.objects.values('starting_date')]\n",
    "\n",
    "# selecting end date by sorting asc\n",
    "end_date = [ed['ending_date'] for ed in Hero.objects.values('starting_date', 'ending_date').order_by(\"ending_date\")]\n",
    "\n",
    "res = sort_m(start_date, end_date)\n",
    "res"
   ]
  },
  {
   "cell_type": "code",
   "execution_count": 125,
   "metadata": {},
   "outputs": [
    {
     "data": {
      "text/plain": [
       "{datetime.date(2020, 1, 14),\n",
       " datetime.date(2020, 1, 16),\n",
       " datetime.date(2020, 1, 17),\n",
       " datetime.date(2020, 1, 24),\n",
       " datetime.date(2020, 1, 25)}"
      ]
     },
     "execution_count": 125,
     "metadata": {},
     "output_type": "execute_result"
    }
   ],
   "source": [
    "select_date = set(end_date[r] for r in res)\n",
    "select_date"
   ]
  },
  {
   "cell_type": "code",
   "execution_count": null,
   "metadata": {},
   "outputs": [],
   "source": []
  },
  {
   "cell_type": "code",
   "execution_count": 105,
   "metadata": {},
   "outputs": [],
   "source": []
  },
  {
   "cell_type": "code",
   "execution_count": 122,
   "metadata": {},
   "outputs": [
    {
     "name": "stdout",
     "output_type": "stream",
     "text": [
      "2020-01-08 2020-01-16\n",
      "2020-01-01 2020-01-17\n",
      "2020-01-01 2020-01-14\n",
      "2020-01-01 2020-01-14\n",
      "2020-01-08 2020-01-24\n",
      "2020-01-07 2020-01-25\n",
      "2020-01-14 2020-01-24\n",
      "2020-01-10 2020-01-25\n",
      "2020-01-20 2020-01-25\n",
      "2020-01-20 2020-01-25\n",
      "2020-01-20 2020-01-25\n",
      "2020-01-20 2020-01-25\n",
      "2020-01-20 2020-01-25\n"
     ]
    }
   ],
   "source": [
    "for h in Hero.objects.filter(ending_date__in=select_date).values().distinct():\n",
    "    print(h['starting_date'], h['ending_date'])"
   ]
  },
  {
   "cell_type": "code",
   "execution_count": null,
   "metadata": {},
   "outputs": [],
   "source": []
  },
  {
   "cell_type": "code",
   "execution_count": null,
   "metadata": {},
   "outputs": [],
   "source": []
  },
  {
   "cell_type": "code",
   "execution_count": null,
   "metadata": {},
   "outputs": [],
   "source": []
  },
  {
   "cell_type": "code",
   "execution_count": 198,
   "metadata": {},
   "outputs": [],
   "source": [
    "def sort_m(st, ft):\n",
    "    result = []\n",
    "    ft = sorted(ft)  # soritng the finish time\n",
    "    n = len(ft)  # count total finish time\n",
    "    i = 0  # select by default first value\n",
    "    result.append(i)  # adding first value to dictionary\n",
    "    for j in range(n):\n",
    "        # checking if start time of next activity is greater then or equal to\n",
    "        # finish time of previously\n",
    "        if st[j] >= ft[i]:\n",
    "            # adding to list\n",
    "            result.append(j)\n",
    "            i = j\n",
    "    return set(result)"
   ]
  },
  {
   "cell_type": "code",
   "execution_count": 199,
   "metadata": {},
   "outputs": [
    {
     "data": {
      "text/plain": [
       "{'data': <QuerySet [{'id': 3, 'name': 'asmbdk', 'starting_date': datetime.date(2020, 6, 16), 'ending_date': datetime.date(2020, 6, 19)}, {'id': 14, 'name': 'testing date', 'starting_date': datetime.date(2020, 1, 1), 'ending_date': datetime.date(2020, 1, 14)}, {'id': 15, 'name': '11testing date', 'starting_date': datetime.date(2020, 1, 1), 'ending_date': datetime.date(2020, 1, 14)}, {'id': 18, 'name': 'thsisisisisi', 'starting_date': datetime.date(2020, 1, 14), 'ending_date': datetime.date(2020, 1, 24)}]>,\n",
       " 'count': 4}"
      ]
     },
     "execution_count": 199,
     "metadata": {},
     "output_type": "execute_result"
    }
   ],
   "source": [
    "dates = [{'start_date': ed['starting_date'], 'end_date':ed['ending_date']} for ed in Hero.objects.values('starting_date', 'ending_date').order_by(\"ending_date\")]\n",
    "f_sdate = []\n",
    "f_edate = []\n",
    "s_date = []\n",
    "e_date = []\n",
    "for d in dates:\n",
    "    s_date.append(d['start_date'])\n",
    "    e_date.append(d['end_date'])\n",
    "res = sort_m(s_date, e_date)\n",
    "for r in res:\n",
    "    #print(dates[r])\n",
    "    dts = dates[r]\n",
    "    f_sdate.append(dts['start_date'])\n",
    "    f_edate.append(dts['end_date'])\n",
    "fr = Hero.objects.filter(starting_date__in = f_sdate, ending_date__in = f_edate).values().distinct()\n",
    "final_results = {'data': fr, 'count':len(fr)}\n",
    "final_results"
   ]
  },
  {
   "cell_type": "code",
   "execution_count": 229,
   "metadata": {},
   "outputs": [
    {
     "data": {
      "text/plain": [
       "{'data': <QuerySet [{'id': 3, 'name': 'asmbdk', 'starting_date': datetime.date(2020, 6, 16), 'ending_date': datetime.date(2020, 6, 19)}, {'id': 14, 'name': 'testing date', 'starting_date': datetime.date(2020, 1, 1), 'ending_date': datetime.date(2020, 1, 14)}, {'id': 15, 'name': '11testing date', 'starting_date': datetime.date(2020, 1, 1), 'ending_date': datetime.date(2020, 1, 14)}, {'id': 18, 'name': 'thsisisisisi', 'starting_date': datetime.date(2020, 1, 14), 'ending_date': datetime.date(2020, 1, 24)}]>,\n",
       " 'count': 4}"
      ]
     },
     "execution_count": 229,
     "metadata": {},
     "output_type": "execute_result"
    }
   ],
   "source": [
    "dates = [{'start_date': ed['starting_date'], 'end_date':ed['ending_date']} for ed in Hero.objects.filter(starting_date__year='2020', ending_date__year='2020').values('starting_date', 'ending_date').order_by(\"ending_date\")]\n",
    "f_sdate = []\n",
    "f_edate = []\n",
    "s_date = []\n",
    "e_date = []\n",
    "for d in dates:\n",
    "    s_date.append(d['start_date'])\n",
    "    e_date.append(d['end_date'])\n",
    "res = sort_m(s_date, e_date)\n",
    "for r in res:\n",
    "    dts = dates[r]\n",
    "    f_sdate.append(dts['start_date'])\n",
    "    f_edate.append(dts['end_date'])\n",
    "\n",
    "\n",
    "fr = Hero.objects.filter(starting_date__in = f_sdate, ending_date__in = f_edate).values()\n",
    "final_results = {'data': fr, 'count':len(fr)}\n",
    "final_results"
   ]
  },
  {
   "cell_type": "code",
   "execution_count": 226,
   "metadata": {},
   "outputs": [],
   "source": []
  },
  {
   "cell_type": "code",
   "execution_count": null,
   "metadata": {},
   "outputs": [],
   "source": []
  },
  {
   "cell_type": "code",
   "execution_count": null,
   "metadata": {
    "scrolled": true
   },
   "outputs": [],
   "source": []
  },
  {
   "cell_type": "code",
   "execution_count": null,
   "metadata": {},
   "outputs": [],
   "source": []
  },
  {
   "cell_type": "code",
   "execution_count": 181,
   "metadata": {},
   "outputs": [],
   "source": [
    "dates = [{'start_date': ed['starting_date'], 'end_date':ed['ending_date']} for ed in Hero.objects.values('starting_date', 'ending_date').order_by(\"ending_date\")]"
   ]
  },
  {
   "cell_type": "code",
   "execution_count": 182,
   "metadata": {},
   "outputs": [],
   "source": [
    "s_date = []\n",
    "e_date = []\n",
    "for d in dates:\n",
    "    s_date.append(d['start_date'])\n",
    "    e_date.append(d['end_date'])"
   ]
  },
  {
   "cell_type": "code",
   "execution_count": 183,
   "metadata": {},
   "outputs": [
    {
     "data": {
      "text/plain": [
       "{0, 5, 15}"
      ]
     },
     "execution_count": 183,
     "metadata": {},
     "output_type": "execute_result"
    }
   ],
   "source": [
    "res = sort_m(s_date, e_date)\n",
    "res"
   ]
  },
  {
   "cell_type": "code",
   "execution_count": 184,
   "metadata": {},
   "outputs": [
    {
     "name": "stdout",
     "output_type": "stream",
     "text": [
      "{'start_date': datetime.date(2020, 1, 1), 'end_date': datetime.date(2020, 1, 14)}\n",
      "{'start_date': datetime.date(2020, 1, 14), 'end_date': datetime.date(2020, 1, 24)}\n",
      "{'start_date': datetime.date(2020, 6, 16), 'end_date': datetime.date(2020, 6, 19)}\n"
     ]
    }
   ],
   "source": [
    "for r in res:\n",
    "    print(dates[r])"
   ]
  },
  {
   "cell_type": "code",
   "execution_count": null,
   "metadata": {},
   "outputs": [],
   "source": []
  },
  {
   "cell_type": "code",
   "execution_count": null,
   "metadata": {},
   "outputs": [],
   "source": []
  }
 ],
 "metadata": {
  "kernelspec": {
   "display_name": "Python 3",
   "language": "python",
   "name": "python3"
  },
  "language_info": {
   "codemirror_mode": {
    "name": "ipython",
    "version": 3
   },
   "file_extension": ".py",
   "mimetype": "text/x-python",
   "name": "python",
   "nbconvert_exporter": "python",
   "pygments_lexer": "ipython3",
   "version": "3.7.7"
  }
 },
 "nbformat": 4,
 "nbformat_minor": 2
}
